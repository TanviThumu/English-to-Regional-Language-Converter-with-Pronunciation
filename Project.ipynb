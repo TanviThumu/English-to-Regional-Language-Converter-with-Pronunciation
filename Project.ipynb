{
 "cells": [
  {
   "cell_type": "code",
   "execution_count": 13,
   "id": "78fd24ae-dc42-45dd-bdb1-7cae6ce9148b",
   "metadata": {},
   "outputs": [
    {
     "name": "stdout",
     "output_type": "stream",
     "text": [
      "Requirement already satisfied: googletrans==4.0.0-rc1 in c:\\users\\tanvi\\anaconda3\\lib\\site-packages (4.0.0rc1)\n",
      "Requirement already satisfied: pykakasi in c:\\users\\tanvi\\anaconda3\\lib\\site-packages (2.3.0)\n",
      "Requirement already satisfied: pypinyin in c:\\users\\tanvi\\anaconda3\\lib\\site-packages (0.54.0)\n",
      "Requirement already satisfied: hangul-romanize in c:\\users\\tanvi\\anaconda3\\lib\\site-packages (0.1.0)\n",
      "Requirement already satisfied: httpx==0.13.3 in c:\\users\\tanvi\\anaconda3\\lib\\site-packages (from googletrans==4.0.0-rc1) (0.13.3)\n",
      "Requirement already satisfied: certifi in c:\\users\\tanvi\\anaconda3\\lib\\site-packages (from httpx==0.13.3->googletrans==4.0.0-rc1) (2025.4.26)\n",
      "Requirement already satisfied: hstspreload in c:\\users\\tanvi\\anaconda3\\lib\\site-packages (from httpx==0.13.3->googletrans==4.0.0-rc1) (2025.1.1)\n",
      "Requirement already satisfied: sniffio in c:\\users\\tanvi\\anaconda3\\lib\\site-packages (from httpx==0.13.3->googletrans==4.0.0-rc1) (1.3.0)\n",
      "Requirement already satisfied: chardet==3.* in c:\\users\\tanvi\\anaconda3\\lib\\site-packages (from httpx==0.13.3->googletrans==4.0.0-rc1) (3.0.4)\n",
      "Requirement already satisfied: idna==2.* in c:\\users\\tanvi\\anaconda3\\lib\\site-packages (from httpx==0.13.3->googletrans==4.0.0-rc1) (2.10)\n",
      "Requirement already satisfied: rfc3986<2,>=1.3 in c:\\users\\tanvi\\anaconda3\\lib\\site-packages (from httpx==0.13.3->googletrans==4.0.0-rc1) (1.5.0)\n",
      "Requirement already satisfied: httpcore==0.9.* in c:\\users\\tanvi\\anaconda3\\lib\\site-packages (from httpx==0.13.3->googletrans==4.0.0-rc1) (0.9.1)\n",
      "Requirement already satisfied: h11<0.10,>=0.8 in c:\\users\\tanvi\\anaconda3\\lib\\site-packages (from httpcore==0.9.*->httpx==0.13.3->googletrans==4.0.0-rc1) (0.9.0)\n",
      "Requirement already satisfied: h2==3.* in c:\\users\\tanvi\\anaconda3\\lib\\site-packages (from httpcore==0.9.*->httpx==0.13.3->googletrans==4.0.0-rc1) (3.2.0)\n",
      "Requirement already satisfied: hyperframe<6,>=5.2.0 in c:\\users\\tanvi\\anaconda3\\lib\\site-packages (from h2==3.*->httpcore==0.9.*->httpx==0.13.3->googletrans==4.0.0-rc1) (5.2.0)\n",
      "Requirement already satisfied: hpack<4,>=3.0 in c:\\users\\tanvi\\anaconda3\\lib\\site-packages (from h2==3.*->httpcore==0.9.*->httpx==0.13.3->googletrans==4.0.0-rc1) (3.0.0)\n",
      "Requirement already satisfied: jaconv in c:\\users\\tanvi\\anaconda3\\lib\\site-packages (from pykakasi) (0.4.0)\n",
      "Requirement already satisfied: deprecated in c:\\users\\tanvi\\anaconda3\\lib\\site-packages (from pykakasi) (1.2.18)\n",
      "Requirement already satisfied: wrapt<2,>=1.10 in c:\\users\\tanvi\\anaconda3\\lib\\site-packages (from deprecated->pykakasi) (1.14.1)\n",
      "Note: you may need to restart the kernel to use updated packages.\n"
     ]
    }
   ],
   "source": [
    "pip install googletrans==4.0.0-rc1 pykakasi pypinyin hangul-romanize\n"
   ]
  },
  {
   "cell_type": "code",
   "execution_count": 17,
   "id": "be998264-c42d-4854-8e64-9918703fc060",
   "metadata": {},
   "outputs": [],
   "source": [
    "from tkinter import *\n",
    "from tkinter import ttk\n",
    "from googletrans import Translator, LANGUAGES\n",
    "import pykakasi\n",
    "from pypinyin import lazy_pinyin\n",
    "from hangul_romanize import Transliter\n",
    "from hangul_romanize.rule import academic\n",
    "\n",
    "translator = Translator()\n",
    "kks = pykakasi.kakasi()\n",
    "transliter = Transliter(academic)\n",
    "\n",
    "def romanize_text(text, lang_code):\n",
    "    if lang_code == 'ja':  # Japanese\n",
    "        result = kks.convert(text)\n",
    "        return ' '.join([item['hepburn'] for item in result])\n",
    "    elif lang_code in ['zh-cn', 'zh-tw']:  # Chinese\n",
    "        return ' '.join(lazy_pinyin(text))\n",
    "    elif lang_code == 'ko':  # Korean\n",
    "        return transliter.translit(text)\n",
    "    else:\n",
    "        return None  # Other languages not supported\n",
    "\n",
    "def translate_text():\n",
    "    input_text = text_input.get(\"1.0\", END).strip()\n",
    "    lang = lang_choice.get()\n",
    "    lang_code_list = [k for k, v in LANGUAGES.items() if v == lang.lower()]\n",
    "    if input_text and lang_code_list:\n",
    "        lang_code = lang_code_list[0]\n",
    "        translated = translator.translate(input_text, dest=lang_code)\n",
    "        text_output.delete(\"1.0\", END)\n",
    "        text_output.insert(END, translated.text)\n",
    "\n",
    "        romanized = romanize_text(translated.text, lang_code)\n",
    "        if romanized:\n",
    "            text_output.insert(END, f\"\\n\\nPronunciation: {romanized}\")\n",
    "\n",
    "root = Tk()\n",
    "root.title(\"Real-Time Translator with Pronunciation\")\n",
    "root.geometry(\"600x450\")\n",
    "root.configure(bg=\"#6caccf\")\n",
    "\n",
    "style = ttk.Style()\n",
    "style.theme_use(\"clam\")\n",
    "\n",
    "frame = Frame(root, bg=\"#6caccf\", padx=20, pady=20)\n",
    "frame.pack(fill=BOTH, expand=True)\n",
    "\n",
    "Label(frame, text=\"Enter Text\", font=(\"Helvetica\", 12, \"bold\"), bg=\"#6caccf\").pack(anchor=W)\n",
    "text_input = Text(frame, height=5, font=(\"Arial\", 11),bg=\"#eff0f1\")\n",
    "text_input.pack(fill=X, pady=(5, 10))\n",
    "\n",
    "Label(frame, text=\"Select Language\", font=(\"Helvetica\", 12, \"bold\"), bg=\"#6caccf\").pack(anchor=W)\n",
    "lang_choice = StringVar(root)\n",
    "lang_choice.set(\"japanese\")\n",
    "lang_menu = ttk.Combobox(frame, textvariable=lang_choice, values=list(LANGUAGES.values()), font=(\"Arial\", 11))\n",
    "lang_menu.pack(fill=X, pady=(5, 15))\n",
    "\n",
    "ttk.Button(frame, text=\"Translate\", command=translate_text).pack(pady=5)\n",
    "\n",
    "Label(frame, text=\"Translated Text\", font=(\"Helvetica\", 12, \"bold\"), bg=\"#6caccf\").pack(anchor=W, pady=(15, 5))\n",
    "\n",
    "text_output = Text(frame, height=7, font=(\"Arial\", 11), bg=\"#eff0f1\")\n",
    "text_output.pack(fill=X)\n",
    "root.mainloop()"
   ]
  },
  {
   "cell_type": "code",
   "execution_count": null,
   "id": "891415c5-eb82-401f-8f9a-8dbbd161b856",
   "metadata": {},
   "outputs": [],
   "source": []
  }
 ],
 "metadata": {
  "kernelspec": {
   "display_name": "Python [conda env:base] *",
   "language": "python",
   "name": "conda-base-py"
  },
  "language_info": {
   "codemirror_mode": {
    "name": "ipython",
    "version": 3
   },
   "file_extension": ".py",
   "mimetype": "text/x-python",
   "name": "python",
   "nbconvert_exporter": "python",
   "pygments_lexer": "ipython3",
   "version": "3.12.7"
  }
 },
 "nbformat": 4,
 "nbformat_minor": 5
}
